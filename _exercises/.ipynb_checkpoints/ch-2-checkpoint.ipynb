{
 "cells": [
  {
   "cell_type": "code",
   "execution_count": 1,
   "metadata": {},
   "outputs": [
    {
     "name": "stdout",
     "output_type": "stream",
     "text": [
      "hello\n"
     ]
    }
   ],
   "source": [
    "#2-1\n",
    "message = \"hello\"\n",
    "print(message)"
   ]
  },
  {
   "cell_type": "code",
   "execution_count": 2,
   "metadata": {},
   "outputs": [
    {
     "name": "stdout",
     "output_type": "stream",
     "text": [
      "hello\n",
      "goodbye\n"
     ]
    }
   ],
   "source": [
    "#2-2\n",
    "message = \"hello\"\n",
    "print(message)\n",
    "message = \"goodbye\"\n",
    "print(message)"
   ]
  },
  {
   "cell_type": "code",
   "execution_count": 4,
   "metadata": {},
   "outputs": [
    {
     "name": "stdout",
     "output_type": "stream",
     "text": [
      "Hello, I am Mason\n"
     ]
    }
   ],
   "source": [
    "#2-3\n",
    "name = \"Mason\"\n",
    "greeting = f\"Hello, I am {name}\"\n",
    "print(greeting)\n"
   ]
  },
  {
   "cell_type": "code",
   "execution_count": 5,
   "metadata": {},
   "outputs": [
    {
     "name": "stdout",
     "output_type": "stream",
     "text": [
      "mason goldberg\n",
      "MASON GOLDBERG\n",
      "Mason Goldberg\n"
     ]
    }
   ],
   "source": [
    "#2-4\n",
    "name = \"mason goldberg\"\n",
    "print(name.lower())\n",
    "print(name.upper())\n",
    "print(name.title())"
   ]
  },
  {
   "cell_type": "code",
   "execution_count": 9,
   "metadata": {},
   "outputs": [
    {
     "name": "stdout",
     "output_type": "stream",
     "text": [
      "Fred Flinstone once said, \"yabba dabba doo!\"\n"
     ]
    }
   ],
   "source": [
    "#2-5\n",
    "print('Fred Flinstone once said, \"yabba dabba doo!\"')"
   ]
  },
  {
   "cell_type": "code",
   "execution_count": 10,
   "metadata": {},
   "outputs": [
    {
     "name": "stdout",
     "output_type": "stream",
     "text": [
      "Fred Flinstone once said, \"yabba dabba doo!\"\n"
     ]
    }
   ],
   "source": [
    "#2-6\n",
    "#This code outputs a message by a famous person.\n",
    "famous_person = \"Fred Flinstone\"\n",
    "message = f'{famous_person} once said, \"yabba dabba doo!\"'\n",
    "print(message)"
   ]
  },
  {
   "cell_type": "code",
   "execution_count": 13,
   "metadata": {},
   "outputs": [
    {
     "name": "stdout",
     "output_type": "stream",
     "text": [
      "\n",
      "\t    Mason Goldberg    \n",
      "\n",
      "\t    Mason Goldberg\n",
      "Mason Goldberg    \n",
      "Mason Goldberg\n"
     ]
    }
   ],
   "source": [
    "#2-7\n",
    "#This is by Mason Goldberg\n",
    "name = \"\\n\\t    Mason Goldberg    \"\n",
    "print(name)\n",
    "print(name.rstrip())\n",
    "print(name.lstrip())\n",
    "print(name.strip())"
   ]
  }
 ],
 "metadata": {
  "kernelspec": {
   "display_name": "Python 3 (ipykernel)",
   "language": "python",
   "name": "python3"
  },
  "language_info": {
   "codemirror_mode": {
    "name": "ipython",
    "version": 3
   },
   "file_extension": ".py",
   "mimetype": "text/x-python",
   "name": "python",
   "nbconvert_exporter": "python",
   "pygments_lexer": "ipython3",
   "version": "3.9.12"
  },
  "vscode": {
   "interpreter": {
    "hash": "aee8b7b246df8f9039afb4144a1f6fd8d2ca17a180786b69acc140d282b71a49"
   }
  }
 },
 "nbformat": 4,
 "nbformat_minor": 2
}
