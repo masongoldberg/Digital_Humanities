{
 "cells": [
  {
   "cell_type": "code",
   "execution_count": 2,
   "metadata": {},
   "outputs": [
    {
     "name": "stdout",
     "output_type": "stream",
     "text": [
      "Jack\n",
      "Paul\n",
      "Justin\n",
      "Jake\n"
     ]
    }
   ],
   "source": [
    "#3-1\n",
    "names = ['Jack', 'Paul', 'Justin', 'Jake']\n",
    "for name in names:\n",
    "    print(name)"
   ]
  },
  {
   "cell_type": "code",
   "execution_count": 3,
   "metadata": {},
   "outputs": [
    {
     "name": "stdout",
     "output_type": "stream",
     "text": [
      "Hello, Jack!\n",
      "Hello, Paul!\n",
      "Hello, Justin!\n",
      "Hello, Jake!\n"
     ]
    }
   ],
   "source": [
    "#3-2\n",
    "names = ['Jack', 'Paul', 'Justin', 'Jake']\n",
    "for name in names:\n",
    "    print(f\"Hello, {name}!\")"
   ]
  },
  {
   "cell_type": "code",
   "execution_count": 5,
   "metadata": {},
   "outputs": [
    {
     "name": "stdout",
     "output_type": "stream",
     "text": [
      "I would like to own a Boeing 787 Dreamliner.\n",
      "I would like to own a Airbus 330.\n",
      "I would like to own a Concorde Super-Sonic Jet.\n"
     ]
    }
   ],
   "source": [
    "#3-3\n",
    "planes = ['Boeing 787 Dreamliner', 'Airbus 330', 'Concorde Super-Sonic Jet']\n",
    "for plane in planes:\n",
    "    print(f\"I would like to own a {plane}.\")"
   ]
  },
  {
   "cell_type": "code",
   "execution_count": 7,
   "metadata": {},
   "outputs": [
    {
     "name": "stdout",
     "output_type": "stream",
     "text": [
      "Please come to my house for dinner, Sacha Baron Cohen.\n",
      "Please come to my house for dinner, Mick Jagger.\n",
      "Please come to my house for dinner, Queen Elizabeth II of the United Kingdom.\n"
     ]
    }
   ],
   "source": [
    "#3-4\n",
    "guests = ['Sacha Baron Cohen', 'Mick Jagger', 'Queen Elizabeth II of the United Kingdom']\n",
    "for guest in guests:\n",
    "    print(f\"Please come to my house for dinner, {guest}.\")"
   ]
  },
  {
   "cell_type": "code",
   "execution_count": 9,
   "metadata": {},
   "outputs": [
    {
     "name": "stdout",
     "output_type": "stream",
     "text": [
      "Please come to my house for dinner, Sacha Baron Cohen.\n",
      "Please come to my house for dinner, Mick Jagger.\n",
      "Please come to my house for dinner, Queen Elizabeth II of the United Kingdom.\n",
      "Unfortunately, Queen Elizabeth II of the United Kingdom is unable to attend.\n",
      "Please come to my house for dinner, Sacha Baron Cohen.\n",
      "Please come to my house for dinner, Mick Jagger.\n",
      "Please come to my house for dinner, Meghan Markle.\n"
     ]
    }
   ],
   "source": [
    "#3-5\n",
    "guests = ['Sacha Baron Cohen', 'Mick Jagger', 'Queen Elizabeth II of the United Kingdom']\n",
    "for guest in guests:\n",
    "    print(f\"Please come to my house for dinner, {guest}.\")\n",
    "\n",
    "print(f\"Unfortunately, {guests[2]} is unable to attend.\")\n",
    "guests[2] = 'Meghan Markle'\n",
    "\n",
    "for guest in guests:\n",
    "    print(f\"Please come to my house for dinner, {guest}.\")\n"
   ]
  },
  {
   "cell_type": "code",
   "execution_count": 12,
   "metadata": {},
   "outputs": [
    {
     "name": "stdout",
     "output_type": "stream",
     "text": [
      "Please come to my house for dinner, Sacha Baron Cohen.\n",
      "Please come to my house for dinner, Mick Jagger.\n",
      "Please come to my house for dinner, Queen Elizabeth II of the United Kingdom.\n",
      "Please come to my house for dinner, Bad Bunny.\n",
      "Please come to my house for dinner, Sacha Baron Cohen.\n",
      "Please come to my house for dinner, Lil Dicky.\n",
      "Please come to my house for dinner, Mick Jagger.\n",
      "Please come to my house for dinner, Queen Elizabeth II of the United Kingdom.\n",
      "Please come to my house for dinner, Shaquille O'Neal.\n"
     ]
    }
   ],
   "source": [
    "#3-6\n",
    "guests = ['Sacha Baron Cohen', 'Mick Jagger', 'Queen Elizabeth II of the United Kingdom']\n",
    "for guest in guests:\n",
    "    print(f\"Please come to my house for dinner, {guest}.\")\n",
    "\n",
    "guests.insert(0, 'Bad Bunny')\n",
    "guests.insert(2, 'Lil Dicky')\n",
    "guests.append(\"Shaquille O'Neal\")\n",
    "\n",
    "for guest in guests:\n",
    "    print(f\"Please come to my house for dinner, {guest}.\")\n"
   ]
  },
  {
   "cell_type": "code",
   "execution_count": 15,
   "metadata": {},
   "outputs": [
    {
     "name": "stdout",
     "output_type": "stream",
     "text": [
      "Oh no! I can only have two people at dinner now.\n",
      "Bad Bunny, you have been UNINVITED!\n",
      "Sacha Baron Cohen, you have been UNINVITED!\n",
      "Lil Dicky, you have been UNINVITED!\n",
      "Mick Jagger, you have been UNINVITED!\n",
      "Queen Elizabeth II of the United Kingdom, you may still come.\n",
      "Shaquille O'Neal, you may still come.\n",
      "[]\n"
     ]
    }
   ],
   "source": [
    "#3-7\n",
    "guests = ['Sacha Baron Cohen', 'Mick Jagger', 'Queen Elizabeth II of the United Kingdom']\n",
    "guests.insert(0, 'Bad Bunny')\n",
    "guests.insert(2, 'Lil Dicky')\n",
    "guests.append(\"Shaquille O'Neal\")\n",
    "\n",
    "print(\"Oh no! I can only have two people at dinner now.\")\n",
    "while len(guests) > 2:\n",
    "    uninvited = guests.pop(0)\n",
    "    print(f\"{uninvited}, you have been UNINVITED!\")\n",
    "\n",
    "for guest in guests:\n",
    "    print(f\"{guest}, you may still come.\")\n",
    "\n",
    "while len(guests) > 0:\n",
    "    del guests[0]\n",
    "\n",
    "print(guests)"
   ]
  },
  {
   "cell_type": "code",
   "execution_count": 21,
   "metadata": {},
   "outputs": [
    {
     "name": "stdout",
     "output_type": "stream",
     "text": [
      "['Morocco', 'Japan', 'Turkey', 'Greece', 'Brazil']\n",
      "['Brazil', 'Greece', 'Japan', 'Morocco', 'Turkey']\n",
      "['Morocco', 'Japan', 'Turkey', 'Greece', 'Brazil']\n",
      "['Turkey', 'Morocco', 'Japan', 'Greece', 'Brazil']\n",
      "['Morocco', 'Japan', 'Turkey', 'Greece', 'Brazil']\n",
      "['Brazil', 'Greece', 'Turkey', 'Japan', 'Morocco']\n",
      "['Morocco', 'Japan', 'Turkey', 'Greece', 'Brazil']\n",
      "['Brazil', 'Greece', 'Japan', 'Morocco', 'Turkey']\n",
      "['Turkey', 'Morocco', 'Japan', 'Greece', 'Brazil']\n"
     ]
    }
   ],
   "source": [
    "#3-8\n",
    "\n",
    "places = ['Morocco', 'Japan', 'Turkey', 'Greece', 'Brazil']\n",
    "print(places)\n",
    "print(sorted(places))\n",
    "print(places)\n",
    "print(sorted(places, reverse=True))\n",
    "print(places)\n",
    "places.reverse()\n",
    "print(places)\n",
    "places.reverse()\n",
    "print(places)\n",
    "places.sort()\n",
    "print(places)\n",
    "places.sort(reverse=True)\n",
    "print(places)"
   ]
  },
  {
   "cell_type": "code",
   "execution_count": 24,
   "metadata": {},
   "outputs": [
    {
     "name": "stdout",
     "output_type": "stream",
     "text": [
      "I like pepperoni pizza.\n",
      "I like bianca pizza.\n",
      "I like cheese pizza.\n",
      "I LOVE PIZZA!\n"
     ]
    }
   ],
   "source": [
    "#4-1\n",
    "\n",
    "pizzas = ['pepperoni', 'bianca', 'cheese']\n",
    "\n",
    "for pizza in pizzas:\n",
    "    print(f\"I like {pizza} pizza.\")\n",
    "\n",
    "print(\"I LOVE PIZZA!\")"
   ]
  },
  {
   "cell_type": "code",
   "execution_count": 30,
   "metadata": {},
   "outputs": [
    {
     "name": "stdout",
     "output_type": "stream",
     "text": [
      "Dogs are cool.\n",
      "Turtles are cool.\n",
      "Snakes are cool.\n",
      "Whales are cool.\n",
      "Dolphins are cool.\n",
      "Lizards are cool.\n",
      "Lions are cool.\n",
      "All of these animals have eyes.\n"
     ]
    }
   ],
   "source": [
    "#4-2\n",
    "\n",
    "animals = ['dog', 'turtle', 'snake', 'whale', 'dolphin', 'lizard', 'lion']\n",
    "\n",
    "for animal in animals:\n",
    "    print(f\"{animal.title()}s are cool.\")\n",
    "\n",
    "print(\"All of these animals have eyes.\")"
   ]
  },
  {
   "cell_type": "code",
   "execution_count": 27,
   "metadata": {},
   "outputs": [
    {
     "name": "stdout",
     "output_type": "stream",
     "text": [
      "1\n",
      "2\n",
      "3\n",
      "4\n",
      "5\n",
      "6\n",
      "7\n",
      "8\n",
      "9\n",
      "10\n",
      "11\n",
      "12\n",
      "13\n",
      "14\n",
      "15\n",
      "16\n",
      "17\n",
      "18\n",
      "19\n",
      "20\n"
     ]
    }
   ],
   "source": [
    "#4-3\n",
    "\n",
    "for value in range(1,21):\n",
    "    print(value)"
   ]
  },
  {
   "cell_type": "code",
   "execution_count": 29,
   "metadata": {},
   "outputs": [
    {
     "name": "stdout",
     "output_type": "stream",
     "text": [
      "1\n",
      "3\n",
      "5\n",
      "7\n",
      "9\n",
      "11\n",
      "13\n",
      "15\n",
      "17\n",
      "19\n"
     ]
    }
   ],
   "source": [
    "#4-6\n",
    "\n",
    "odds = []\n",
    "for value in range(1, 21, 2):\n",
    "    odds.append(value)\n",
    "    print(value)\n",
    "\n",
    "\n"
   ]
  },
  {
   "cell_type": "code",
   "execution_count": 35,
   "metadata": {},
   "outputs": [
    {
     "name": "stdout",
     "output_type": "stream",
     "text": [
      "The first three animals are ['dog', 'turtle', 'snake']\n",
      "The last three animals are ['dolphin', 'lizard', 'lion']\n",
      "Three animals from the middle of the list are ['snake', 'whale', 'dolphin']\n"
     ]
    }
   ],
   "source": [
    "#4-10\n",
    "\n",
    "animals = ['dog', 'turtle', 'snake', 'whale', 'dolphin', 'lizard', 'lion']\n",
    "print(f\"The first three animals are {animals[:3]}\")\n",
    "print(f\"The last three animals are {animals[-3:]}\")\n",
    "print(f\"Three animals from the middle of the list are {animals[2:5]}\")\n",
    "\n"
   ]
  },
  {
   "cell_type": "code",
   "execution_count": 37,
   "metadata": {},
   "outputs": [
    {
     "name": "stdout",
     "output_type": "stream",
     "text": [
      "My favorite pizzas are: \n",
      "pepperoni\n",
      "bianca\n",
      "cheese\n",
      "sausage\n",
      "My friend's favorite pizzas are:\n",
      "pepperoni\n",
      "bianca\n",
      "cheese\n",
      "spinach\n"
     ]
    }
   ],
   "source": [
    "#4-11\n",
    "\n",
    "pizzas = ['pepperoni', 'bianca', 'cheese']\n",
    "\n",
    "friend_pizzas = pizzas[:]\n",
    "\n",
    "pizzas.append('sausage')\n",
    "friend_pizzas.append('spinach')\n",
    "\n",
    "print(\"My favorite pizzas are: \")\n",
    "for pizza in pizzas:\n",
    "    print(pizza)\n",
    "\n",
    "print(\"My friend's favorite pizzas are:\")\n",
    "for pizza in friend_pizzas:\n",
    "    print(pizza)"
   ]
  }
 ],
 "metadata": {
  "kernelspec": {
   "display_name": "Python 3 (ipykernel)",
   "language": "python",
   "name": "python3"
  },
  "language_info": {
   "codemirror_mode": {
    "name": "ipython",
    "version": 3
   },
   "file_extension": ".py",
   "mimetype": "text/x-python",
   "name": "python",
   "nbconvert_exporter": "python",
   "pygments_lexer": "ipython3",
   "version": "3.9.12"
  },
  "vscode": {
   "interpreter": {
    "hash": "aee8b7b246df8f9039afb4144a1f6fd8d2ca17a180786b69acc140d282b71a49"
   }
  }
 },
 "nbformat": 4,
 "nbformat_minor": 2
}
