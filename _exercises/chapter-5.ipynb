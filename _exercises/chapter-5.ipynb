{
 "cells": [
  {
   "cell_type": "markdown",
   "metadata": {},
   "source": [
    "# Homework Answers for Python Crash Course chapter 5"
   ]
  },
  {
   "cell_type": "code",
   "execution_count": null,
   "metadata": {},
   "outputs": [],
   "source": [
    "1 2 6 7 8 9  10\n",
    "\n",
    "\n"
   ]
  },
  {
   "cell_type": "code",
   "execution_count": 2,
   "metadata": {},
   "outputs": [
    {
     "name": "stdout",
     "output_type": "stream",
     "text": [
      "Is car == 'tesla'? I predict True.\n",
      "True\n",
      "\n",
      "Is truck == 'ford'? I predict True.\n",
      "True\n",
      "\n",
      "Is car == inventor? I predict True.\n",
      "True\n",
      "\n",
      "Is truck == inventor? I predict False.\n",
      "False\n",
      "\n",
      "Is truck == car? I predict False.\n",
      "False\n",
      "\n",
      "Is inventor == car and truck? I predict False.\n",
      "False\n",
      "\n",
      "Is car == 'mazda'? I predict False.\n",
      "False\n",
      "\n",
      "Is inventor == 'ford'? I predict False.\n",
      "False\n",
      "\n",
      "Is 'tesla' == inventor and car? I predict True.\n",
      "True\n",
      "\n",
      "Is truck == 'ford' or truck == 'tesla'? I predict True.\n",
      "True\n"
     ]
    }
   ],
   "source": [
    "#5-1\n",
    "\n",
    "car = 'tesla'\n",
    "truck = 'ford'\n",
    "inventor = 'tesla'\n",
    "\n",
    "\n",
    "\n",
    "print(\"Is car == 'tesla'? I predict True.\")\n",
    "print(car == 'tesla')\n",
    "\n",
    "print(\"\\nIs truck == 'ford'? I predict True.\")\n",
    "print(truck == 'ford')\n",
    "\n",
    "print(\"\\nIs car == inventor? I predict True.\")\n",
    "print(car == inventor)\n",
    "\n",
    "print(\"\\nIs truck == inventor? I predict False.\")\n",
    "print(truck == inventor)\n",
    "\n",
    "print(\"\\nIs truck == car? I predict False.\")\n",
    "print(truck == car)\n",
    "\n",
    "print(\"\\nIs inventor == car and truck? I predict False.\")\n",
    "print(inventor == car and inventor == truck)\n",
    "\n",
    "print(\"\\nIs car == 'mazda'? I predict False.\")\n",
    "print(truck == 'mazda')\n",
    "\n",
    "print(\"\\nIs inventor == 'ford'? I predict False.\")\n",
    "print(inventor == 'ford')\n",
    "\n",
    "print(\"\\nIs 'tesla' == inventor and car? I predict True.\")\n",
    "print('tesla' == inventor and 'tesla' == car)\n",
    "\n",
    "print(\"\\nIs truck == 'ford' or truck == 'tesla'? I predict True.\")\n",
    "print(truck == 'ford' or truck == 'tesla')"
   ]
  },
  {
   "cell_type": "code",
   "execution_count": 9,
   "metadata": {},
   "outputs": [
    {
     "name": "stdout",
     "output_type": "stream",
     "text": [
      "\n",
      "Is 'Truck'.lower() == 'truck'? I predict True.\n",
      "True\n",
      "\n",
      "Is 'ford' == 'truck'? I predict False.\n",
      "False\n",
      "\n",
      "Is 4 > 3? I predict True.\n",
      "True\n",
      "\n",
      "Is 4 == 2 + 2 and 4 == 3 + 1? I predict True.\n",
      "True\n",
      "\n",
      "Is 'clooney' in presidents? I predict False.\n",
      "False\n",
      "\n",
      "Is 'biden' not in presidents? I predict False.\n",
      "False\n"
     ]
    }
   ],
   "source": [
    "#5-2\n",
    "\n",
    "\n",
    "presidents = ['obama', 'trump', 'biden']\n",
    "\n",
    "print(\"\\nIs 'Truck'.lower() == 'truck'? I predict True.\")\n",
    "print('Truck'.lower() == 'truck')\n",
    "\n",
    "print(\"\\nIs 'ford' == 'truck'? I predict False.\")\n",
    "print('truck' == 'ford')\n",
    "\n",
    "print(\"\\nIs 4 > 3? I predict True.\")\n",
    "print(4 > 3)\n",
    "\n",
    "print(\"\\nIs 4 == 2 + 2 and 4 == 3 + 1? I predict True.\")\n",
    "print(4 == (2+2) and 4 == (3+1))\n",
    "\n",
    "print(\"\\nIs 'clooney' in presidents? I predict False.\")\n",
    "print('clooney' in presidents)\n",
    "\n",
    "print(\"\\nIs 'biden' not in presidents? I predict False.\")\n",
    "print('biden' not in presidents)\n"
   ]
  },
  {
   "cell_type": "code",
   "execution_count": 11,
   "metadata": {},
   "outputs": [
    {
     "name": "stdout",
     "output_type": "stream",
     "text": [
      "Kid!\n"
     ]
    }
   ],
   "source": [
    "#5-6\n",
    "\n",
    "age = 6\n",
    "\n",
    "if(age <= 2):\n",
    "    print(\"Baby!\")\n",
    "elif(age >= 2 and age < 4):\n",
    "    print('Toddler!')\n",
    "elif(age >= 4 and age < 13):\n",
    "    print('Kid!')\n",
    "elif(age >= 13 and age < 20):\n",
    "    print(\"Teen!\")\n",
    "elif(age >= 20 and age < 65):\n",
    "    print(\"Adult!\")\n",
    "elif(age >= 65):\n",
    "    print(\"Old!\")"
   ]
  },
  {
   "cell_type": "code",
   "execution_count": 12,
   "metadata": {},
   "outputs": [
    {
     "name": "stdout",
     "output_type": "stream",
     "text": [
      "You really like Strawberrys!\n",
      "You really like Apples!\n"
     ]
    }
   ],
   "source": [
    "#5-7\n",
    "#used for loop bc easier\n",
    "\n",
    "fav_fruits = [\"Strawberry\", \"Apple\", \"Pineapple\"]\n",
    "\n",
    "\n",
    "test_fruits = [\"Melon\", \"Strawberry\", \"Banana\", \"Orange\", \"Apple\"]\n",
    "\n",
    "\n",
    "for fruit in test_fruits:\n",
    "    if(fruit in fav_fruits):\n",
    "        print(f\"You really like {fruit}s!\")"
   ]
  },
  {
   "cell_type": "code",
   "execution_count": 13,
   "metadata": {},
   "outputs": [
    {
     "name": "stdout",
     "output_type": "stream",
     "text": [
      "Hello admin, would you like to see the reports?\n",
      "Hello masongoldberg, welcome back!\n",
      "Hello goober123, welcome back!\n",
      "Hello johnny1978, welcome back!\n",
      "Hello cupcakestomper, welcome back!\n"
     ]
    }
   ],
   "source": [
    "#5-8\n",
    "\n",
    "usernames = ['admin', 'masongoldberg', 'goober123', 'johnny1978', 'cupcakestomper']\n",
    "\n",
    "for username in usernames:\n",
    "    if(username == 'admin'):\n",
    "        print(\"Hello admin, would you like to see the reports?\")\n",
    "    else:\n",
    "        print(f\"Hello {username}, welcome back!\")\n",
    "\n",
    "\n"
   ]
  },
  {
   "cell_type": "code",
   "execution_count": 14,
   "metadata": {},
   "outputs": [
    {
     "name": "stdout",
     "output_type": "stream",
     "text": [
      "Oh no! We have no users.\n"
     ]
    }
   ],
   "source": [
    "usernames = []\n",
    "\n",
    "if(usernames == []):\n",
    "    print(\"Oh no! We have no users.\")\n",
    "else:\n",
    "    for username in usernames:\n",
    "        if(username == 'admin'):\n",
    "            print(\"Hello admin, would you like to see the reports?\")\n",
    "        else:\n",
    "            print(f\"Hello {username}, welcome back!\")"
   ]
  },
  {
   "cell_type": "code",
   "execution_count": 17,
   "metadata": {},
   "outputs": [
    {
     "name": "stdout",
     "output_type": "stream",
     "text": [
      "Your username is available!\n",
      "Your username is taken, Tanchy\n",
      "Your username is available!\n",
      "Your username is available!\n",
      "Your username is taken, joemama\n"
     ]
    }
   ],
   "source": [
    "#5-10\n",
    "\n",
    "current_users = ['joemama', 'heftycubism', 'davidbeats', 'Lolla29', 'tanchy']\n",
    "new_users = ['Jarjar23', 'Tanchy', 'elchuPacabRa2009', 'yungluve', 'joemama']\n",
    "\n",
    "for user in current_users:\n",
    "    user = user.lower()\n",
    "\n",
    "for new_user in new_users:\n",
    "    if (new_user.lower() in current_users):\n",
    "        print(f\"Your username is taken, {new_user}\")\n",
    "    else:\n",
    "        print(\"Your username is available!\")\n",
    "\n",
    "    \n",
    "\n"
   ]
  }
 ],
 "metadata": {
  "kernelspec": {
   "display_name": "Python 3 (ipykernel)",
   "language": "python",
   "name": "python3"
  },
  "language_info": {
   "codemirror_mode": {
    "name": "ipython",
    "version": 3
   },
   "file_extension": ".py",
   "mimetype": "text/x-python",
   "name": "python",
   "nbconvert_exporter": "python",
   "pygments_lexer": "ipython3",
   "version": "3.9.12"
  },
  "vscode": {
   "interpreter": {
    "hash": "aee8b7b246df8f9039afb4144a1f6fd8d2ca17a180786b69acc140d282b71a49"
   }
  }
 },
 "nbformat": 4,
 "nbformat_minor": 2
}
