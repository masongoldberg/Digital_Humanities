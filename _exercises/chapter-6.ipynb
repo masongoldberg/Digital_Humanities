{
 "cells": [
  {
   "cell_type": "code",
   "execution_count": 1,
   "metadata": {},
   "outputs": [
    {
     "name": "stdout",
     "output_type": "stream",
     "text": [
      "{'firstname': 'Mason', 'lastname': 'Goldberg', 'age': 21, 'birthday': '5/22/2001', 'city': 'San Francisco'}\n"
     ]
    }
   ],
   "source": [
    "#6-1\n",
    "\n",
    "Me = {'firstname':'Mason', 'lastname':'Goldberg', 'age':21, 'birthday':'5/22/2001', 'city':'San Francisco'}\n",
    "print(Me)"
   ]
  },
  {
   "cell_type": "code",
   "execution_count": 2,
   "metadata": {},
   "outputs": [
    {
     "name": "stdout",
     "output_type": "stream",
     "text": [
      "{'Michael Jordan': 23, 'Jackie Robinson': 42, 'Chad Ochocinco': 85, 'Stephen Curry': 30, 'Klay Thompson': 11}\n"
     ]
    }
   ],
   "source": [
    "#6-2\n",
    "\n",
    "Favorite_Numbers = {'Michael Jordan':23, 'Jackie Robinson':42, 'Chad Ochocinco':85, 'Stephen Curry':30, 'Klay Thompson':11}\n",
    "print(Favorite_Numbers)"
   ]
  },
  {
   "cell_type": "code",
   "execution_count": 6,
   "metadata": {},
   "outputs": [
    {
     "name": "stdout",
     "output_type": "stream",
     "text": [
      "The term Variable means Thing that stores a changable piece of data\n",
      "The term Dictionary means Variable that stores keys and values\n",
      "The term Boolean means True or False variable\n",
      "The term Initialize means To call a variable into existence in memory\n",
      "The term Append means Add something to a list\n"
     ]
    }
   ],
   "source": [
    "#6-3\n",
    "\n",
    "Glossary = {'Variable':'Thing that stores a changable piece of data', 'Dictionary':'Variable that stores keys and values', 'Boolean':'True or False variable', 'Initialize':'To call a variable into existence in memory', 'Append':'Add something to a list'}\n",
    "\n",
    "for key in Glossary:\n",
    "    print(f\"The term {key} means {Glossary[key]}\")"
   ]
  },
  {
   "cell_type": "code",
   "execution_count": 7,
   "metadata": {},
   "outputs": [
    {
     "name": "stdout",
     "output_type": "stream",
     "text": [
      "The term Variable means Thing that stores a changable piece of data\n",
      "The term Dictionary means Variable that stores keys and values\n",
      "The term Boolean means True or False variable\n",
      "The term Initialize means To call a variable into existence in memory\n",
      "The term Append means Add something to a list\n",
      "The term Variable means Thing that stores a changable piece of data\n",
      "The term Dictionary means Variable that stores keys and values\n",
      "The term Boolean means True or False variable\n",
      "The term Initialize means To call a variable into existence in memory\n",
      "The term Append means Add something to a list\n"
     ]
    }
   ],
   "source": [
    "#6-4 \n",
    "#already used a loop in 6-3\n",
    "\n",
    "Glossary = {'Variable':'Thing that stores a changable piece of data', 'Dictionary':'Variable that stores keys and values', 'Boolean':'True or False variable', 'Initialize':'To call a variable into existence in memory', 'Append':'Add something to a list'}\n",
    "\n",
    "for key in Glossary:\n",
    "    print(f\"The term {key} means {Glossary[key]}\")\n",
    "\n",
    "New_Words = {'Float':'Number with decimal places', 'Int':'Whole number', 'List':'A variable that holds a list of values', 'Sort':'Put a list into an order', 'Delete':'Remove from a list'}\n",
    "\n",
    "\n",
    "for key in Glossary:\n",
    "    print(f\"The term {key} means {Glossary[key]}\")"
   ]
  },
  {
   "cell_type": "code",
   "execution_count": 12,
   "metadata": {},
   "outputs": [
    {
     "name": "stdout",
     "output_type": "stream",
     "text": [
      "The Nile runs through Egypt.\n",
      "The Amazon runs through Brazil.\n",
      "The Mississippi runs through the United States.\n",
      "The rivers are: \n",
      "Nile\n",
      "Amazon\n",
      "Mississippi\n",
      "The countries are: \n",
      "Egypt\n",
      "Brazil\n",
      "the United States\n"
     ]
    }
   ],
   "source": [
    "#6-5\n",
    "\n",
    "Rivers = {'Nile':'Egypt', 'Amazon':'Brazil', 'Mississippi':'the United States'}\n",
    "\n",
    "for key, value in Rivers.items():\n",
    "    print(f\"The {key} runs through {value}.\")\n",
    "\n",
    "\n",
    "print(\"The rivers are: \")\n",
    "for key in Rivers:\n",
    "    print(key)\n",
    "\n",
    "print(\"The countries are: \")\n",
    "for key in Rivers:\n",
    "    print(Rivers[key])"
   ]
  },
  {
   "cell_type": "code",
   "execution_count": 16,
   "metadata": {},
   "outputs": [
    {
     "name": "stdout",
     "output_type": "stream",
     "text": [
      "Mason's firstname is Mason.\n",
      "Mason's lastname is Goldberg.\n",
      "Mason's age is 21.\n",
      "Mason's birthday is 5/22/2001.\n",
      "Mason's city is San Francisco.\n",
      "Joseph's firstname is Joseph.\n",
      "Joseph's lastname is Biden.\n",
      "Joseph's age is 79.\n",
      "Joseph's birthday is 11/20/1942.\n",
      "Joseph's city is Scranton.\n",
      "Stephen's firstname is Stephen.\n",
      "Stephen's lastname is Curry.\n",
      "Stephen's age is 34.\n",
      "Stephen's birthday is 3/14/1988.\n",
      "Stephen's city is Akron.\n"
     ]
    }
   ],
   "source": [
    "#6-7\n",
    "\n",
    "Mason = {'firstname':'Mason', 'lastname':'Goldberg', 'age':21, 'birthday':'5/22/2001', 'city':'San Francisco'}\n",
    "Steph = {'firstname':'Stephen', 'lastname':'Curry', 'age':34, 'birthday':'3/14/1988', 'city':'Akron'}\n",
    "Joe = {'firstname':'Joseph', 'lastname':'Biden', 'age':79, 'birthday':'11/20/1942', 'city':'Scranton'}\n",
    "\n",
    "people = [Mason, Joe, Steph]\n",
    "\n",
    "for person in people:\n",
    "    for key, value in person.items():\n",
    "        print(f\"{person['firstname']}'s {key} is {value}.\")"
   ]
  },
  {
   "cell_type": "code",
   "execution_count": 20,
   "metadata": {},
   "outputs": [
    {
     "name": "stdout",
     "output_type": "stream",
     "text": [
      "quincy is a dog owned by jen.\n",
      "bear is a dog owned by ilene.\n",
      "ginger is a snake owned by allen.\n"
     ]
    }
   ],
   "source": [
    "#6-8\n",
    "\n",
    "Quincy = {'name':'quincy', 'animal':'dog', 'owner':'jen',}\n",
    "Bear = {'name':'bear', 'animal':'dog', 'owner':'ilene'}\n",
    "Ginger = {'name':'ginger', 'animal':'snake', 'owner':'allen'}\n",
    "\n",
    "pets = [Quincy, Bear, Ginger]\n",
    "\n",
    "\n",
    "for pet in pets:\n",
    "    print(f\"{pet['name']} is a {pet['animal']} owned by {pet['owner']}.\")\n"
   ]
  },
  {
   "cell_type": "code",
   "execution_count": 23,
   "metadata": {},
   "outputs": [
    {
     "name": "stdout",
     "output_type": "stream",
     "text": [
      "One of Mason's favorite places is Big Sur.\n",
      "One of Mason's favorite places is Italy.\n",
      "One of Mason's favorite places is Mount Rainier.\n",
      "One of Mark's favorite places is Arizona.\n",
      "One of Mark's favorite places is Switzerland.\n",
      "One of Sam's favorite places is New York.\n"
     ]
    }
   ],
   "source": [
    "#6-9\n",
    "\n",
    "Favorite_Places = {'Mason':['Big Sur', 'Italy', 'Mount Rainier'], 'Mark':['Arizona', 'Switzerland'], 'Sam':['New York']}\n",
    "\n",
    "for key in Favorite_Places:\n",
    "    for item in Favorite_Places[key]:\n",
    "        print(f\"One of {key}'s favorite places is {item}.\")\n",
    "    "
   ]
  },
  {
   "cell_type": "code",
   "execution_count": 33,
   "metadata": {},
   "outputs": [
    {
     "name": "stdout",
     "output_type": "stream",
     "text": [
      "City: San Francisco\n",
      "Country: USA\n",
      "Population: 875000\n",
      "Mayor: London Breed\n",
      "\n",
      "\n",
      "City: Los Angeles\n",
      "Country: USA\n",
      "Population: 3930000\n",
      "Mayor: Eric Garcetti\n",
      "\n",
      "\n",
      "City: London\n",
      "Country: UK\n",
      "Population: 8982000\n",
      "Mayor: Sadiq Khan\n",
      "\n",
      "\n"
     ]
    }
   ],
   "source": [
    "#6-11\n",
    "\n",
    "San_Francisco = {'City':'San Francisco', 'Country':'USA', 'Population':875000, 'Mayor':'London Breed'}\n",
    "Los_Angeles = {'City':'Los Angeles', 'Country':'USA', 'Population':3930000, 'Mayor':'Eric Garcetti'}\n",
    "London = {'City':'London', 'Country':'UK', 'Population':8982000, 'Mayor':'Sadiq Khan'}\n",
    "\n",
    "Cities = {'San Francisco':San_Francisco, 'Los Angeles':Los_Angeles, 'London':London}\n",
    "\n",
    "for key, value in Cities.items():\n",
    "    for k, v in value.items():\n",
    "        print(f\"{k}: {v}\")\n",
    "    print(\"\\n\")"
   ]
  },
  {
   "cell_type": "code",
   "execution_count": null,
   "metadata": {},
   "outputs": [],
   "source": []
  }
 ],
 "metadata": {
  "kernelspec": {
   "display_name": "Python 3 (ipykernel)",
   "language": "python",
   "name": "python3"
  },
  "language_info": {
   "codemirror_mode": {
    "name": "ipython",
    "version": 3
   },
   "file_extension": ".py",
   "mimetype": "text/x-python",
   "name": "python",
   "nbconvert_exporter": "python",
   "pygments_lexer": "ipython3",
   "version": "3.10.0"
  },
  "vscode": {
   "interpreter": {
    "hash": "aee8b7b246df8f9039afb4144a1f6fd8d2ca17a180786b69acc140d282b71a49"
   }
  }
 },
 "nbformat": 4,
 "nbformat_minor": 2
}
