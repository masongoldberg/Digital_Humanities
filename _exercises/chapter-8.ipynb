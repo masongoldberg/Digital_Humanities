{
 "cells": [
  {
   "cell_type": "code",
   "execution_count": 1,
   "metadata": {},
   "outputs": [
    {
     "name": "stdout",
     "output_type": "stream",
     "text": [
      "I am learning about functions!\n"
     ]
    }
   ],
   "source": [
    "#8-1\n",
    "def display_message():\n",
    "    print(\"I am learning about functions!\")\n",
    "\n",
    "display_message()"
   ]
  },
  {
   "cell_type": "code",
   "execution_count": 2,
   "metadata": {},
   "outputs": [
    {
     "name": "stdout",
     "output_type": "stream",
     "text": [
      "One of my favorite books is The Magus.\n"
     ]
    }
   ],
   "source": [
    "#8-2\n",
    "def favorite_book(title):\n",
    "    print(f\"One of my favorite books is {title}.\")\n",
    "\n",
    "favorite_book(\"The Magus\")"
   ]
  },
  {
   "cell_type": "code",
   "execution_count": 5,
   "metadata": {},
   "outputs": [
    {
     "name": "stdout",
     "output_type": "stream",
     "text": [
      "The shirt is size M and says \"Hello there!\".\n",
      "The shirt is size L and says TGIF.\n"
     ]
    }
   ],
   "source": [
    "#8-3\n",
    "\n",
    "def make_shirt(size, text):\n",
    "    print(f\"The shirt is size {size} and says {text}.\")\n",
    "\n",
    "make_shirt('M', '\"Hello there!\"')\n",
    "make_shirt(text = 'TGIF', size = 'L')"
   ]
  },
  {
   "cell_type": "code",
   "execution_count": 6,
   "metadata": {},
   "outputs": [
    {
     "name": "stdout",
     "output_type": "stream",
     "text": [
      "Ottawa is in Canada.\n",
      "Winnipeg is in Canada.\n",
      "Paris is in France.\n"
     ]
    }
   ],
   "source": [
    "#8-5\n",
    "\n",
    "\n",
    "def describe_city(city, country = 'Canada'):\n",
    "    print(f\"{city} is in {country}.\")\n",
    "\n",
    "describe_city('Ottawa')\n",
    "describe_city('Winnipeg')\n",
    "describe_city('Paris', 'France')\n"
   ]
  },
  {
   "cell_type": "code",
   "execution_count": 9,
   "metadata": {},
   "outputs": [
    {
     "name": "stdout",
     "output_type": "stream",
     "text": [
      "Santiago, Chile\n",
      "Beijing, China\n",
      "Cairo, Egypt\n"
     ]
    }
   ],
   "source": [
    "#8-6\n",
    "\n",
    "def city_country(city, country):\n",
    "    location = f\"{city}, {country}\"\n",
    "    return location\n",
    "\n",
    "loc1 = city_country('Santiago', 'Chile')\n",
    "loc2 = city_country('Beijing', 'China')\n",
    "loc3 = city_country('Cairo', 'Egypt')\n",
    "\n",
    "locations = [loc1, loc2, loc3]\n",
    "\n",
    "for loc in locations:\n",
    "    print(loc)"
   ]
  },
  {
   "cell_type": "code",
   "execution_count": 14,
   "metadata": {},
   "outputs": [
    {
     "name": "stdout",
     "output_type": "stream",
     "text": [
      "{'artist': 'The Beach Boys', 'title': 'Pet Sounds'}\n",
      "{'artist': 'Off the Wall', 'title': 'Michael Jackson'}\n",
      "{'artist': 'Voulez Vous', 'title': 'ABBA'}\n",
      "{'artist': 'Men I Trust', 'title': 'Oncle Jazz', 'number of songs': 24}\n"
     ]
    }
   ],
   "source": [
    "#8-7\n",
    "\n",
    "def make_album(artist, title):\n",
    "    album = {'artist':artist, 'title':title}\n",
    "    return album\n",
    "\n",
    "Pet_Sounds = make_album('The Beach Boys', 'Pet Sounds')\n",
    "print(Pet_Sounds)\n",
    "\n",
    "OffTheWall = make_album('Off the Wall', 'Michael Jackson')\n",
    "print(OffTheWall)\n",
    "\n",
    "VoulezVous = make_album('Voulez Vous', 'ABBA')\n",
    "print(VoulezVous)\n",
    "\n",
    "def make_album(artist, title, num = None):\n",
    "    album = {'artist':artist, 'title':title, 'number of songs':num}\n",
    "    return album\n",
    "\n",
    "OncleJazz = make_album('Men I Trust', 'Oncle Jazz', 24)\n",
    "print(OncleJazz)"
   ]
  }
 ],
 "metadata": {
  "kernelspec": {
   "display_name": "Python 3 (ipykernel)",
   "language": "python",
   "name": "python3"
  },
  "language_info": {
   "codemirror_mode": {
    "name": "ipython",
    "version": 3
   },
   "file_extension": ".py",
   "mimetype": "text/x-python",
   "name": "python",
   "nbconvert_exporter": "python",
   "pygments_lexer": "ipython3",
   "version": "3.9.12"
  },
  "vscode": {
   "interpreter": {
    "hash": "aee8b7b246df8f9039afb4144a1f6fd8d2ca17a180786b69acc140d282b71a49"
   }
  }
 },
 "nbformat": 4,
 "nbformat_minor": 2
}
