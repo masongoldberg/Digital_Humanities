{
 "cells": [
  {
   "cell_type": "markdown",
   "metadata": {},
   "source": [
    "---\n",
    "layout: page\n",
    "title: Introduction to NLP Sentiment Analysis with Python\n",
    "description: This lesson uses Python to understand the sentiments of an author in text. \n",
    "---"
   ]
  },
  {
   "cell_type": "markdown",
   "metadata": {},
   "source": [
    "## Source\n",
    "\n",
    "Zoë Wilkinson Saldaña, \"Sentiment Analysis for Exploratory Data Analysis,\" Programming Historian 7 (2018), https://doi.org/10.46430/phen0079.\n",
    "\n"
   ]
  },
  {
   "cell_type": "markdown",
   "metadata": {},
   "source": [
    "## Reflection\n",
    "\n",
    "This Programming Historian lesson dealt with understanding sentiment analysis in text and how to use the Natural Language ToolKit to parse text corpuses for sentiment scores. In this example by Programming Historian, I looked at email messages from the Enron Scandal of the early 2000s, and looking at how those messages were positive or negative in sentiment. I also used one message that Prof. Saxton sent earlier today to analyze the sentiment analysis of that message. \n",
    "\n",
    "It was cool to see how easy it is to use something that is very clearly technologically advanced, but with instructions and easy downloads is fairly seamless and simple. There were certainly some issues I noticed with the ToolKit, as far as it not being able to understand the contexts of human interaction-- such as, the phrase “I am having trouble understanding your logic here” in a corporate email shows much more frustration and contempt that it would in say, an email from a professor to a student in a homework evaluation. For the program, though, the words are the same, so it would have the same score. \n",
    "\n",
    "I can see some really pertinent uses of this kind of program in understanding social media trends, and governments using it to control their population, which is something I’m thinking a lot about in the wake of the Iran protests. I could see a government using sentiment analysis to try to police their populations with respect to how they talk about the government and their policies online, which could be a huge threat to freedom of speech and expression around the world.\n",
    "\n",
    "As for personal use, I am interested in running this program over my own personal text messages with friends and family to see how my friends interact with me-- to see who interacts with me positively and negatively. I don’t know what I would do with this information, but it could be really interesting to know and would be a good way to use this program in a way that is pertinent to me. \n"
   ]
  },
  {
   "cell_type": "markdown",
   "metadata": {},
   "source": [
    "# Code\n"
   ]
  },
  {
   "cell_type": "code",
   "execution_count": 6,
   "metadata": {},
   "outputs": [
    {
     "name": "stderr",
     "output_type": "stream",
     "text": [
      "[nltk_data] Downloading package vader_lexicon to\n",
      "[nltk_data]     /Users/mason/nltk_data...\n",
      "[nltk_data]   Package vader_lexicon is already up-to-date!\n",
      "[nltk_data] Downloading package punkt to /Users/mason/nltk_data...\n",
      "[nltk_data]   Package punkt is already up-to-date!\n"
     ]
    },
    {
     "data": {
      "text/plain": [
       "True"
      ]
     },
     "execution_count": 6,
     "metadata": {},
     "output_type": "execute_result"
    }
   ],
   "source": [
    "import nltk\n",
    "import ssl\n",
    "\n",
    "try:\n",
    "    _create_unverified_https_context = ssl._create_unverified_context\n",
    "except AttributeError:\n",
    "    pass\n",
    "else:\n",
    "    ssl._create_default_https_context = _create_unverified_https_context\n",
    "\n",
    "nltk.download('vader_lexicon')\n",
    "nltk.download('punkt')"
   ]
  },
  {
   "cell_type": "code",
   "execution_count": 7,
   "metadata": {},
   "outputs": [],
   "source": [
    "#Import sentiment intensity analyzer\n",
    "from nltk.sentiment.vader import SentimentIntensityAnalyzer"
   ]
  },
  {
   "cell_type": "code",
   "execution_count": 11,
   "metadata": {},
   "outputs": [
    {
     "name": "stdout",
     "output_type": "stream",
     "text": [
      "Like you, I am getting very frustrated with this process. I am genuinely trying to be as reasonable as possible. I am not trying to \"hold up\" the deal at the last minute. I'm afraid that I am being asked to take a fairly large leap of faith after this company (I don't mean the two of you -- I mean Enron) has screwed me and the people who work for me.\n",
      "compound: -0.3804, neg: 0.093, neu: 0.836, pos: 0.071, "
     ]
    }
   ],
   "source": [
    "\n",
    "#Initialize Vader\n",
    "sid = SentimentIntensityAnalyzer()\n",
    "\n",
    "\n",
    "#Putting in text to analyze\n",
    "message_text = '''Like you, I am getting very frustrated with this process. I am genuinely trying to be as reasonable as possible. I am not trying to \"hold up\" the deal at the last minute. I'm afraid that I am being asked to take a fairly large leap of faith after this company (I don't mean the two of you -- I mean Enron) has screwed me and the people who work for me.'''\n",
    "print(message_text)\n",
    "\n",
    "#find polarity scores\n",
    "scores = sid.polarity_scores(message_text)\n",
    "\n",
    "#print key-value pairs for scores\n",
    "for key in sorted(scores):\n",
    "        print('{0}: {1}, '.format(key, scores[key]), end='')"
   ]
  },
  {
   "cell_type": "code",
   "execution_count": 12,
   "metadata": {},
   "outputs": [
    {
     "name": "stdout",
     "output_type": "stream",
     "text": [
      "Looks great.  I think we should have a least 1 or 2 real time traders in Calgary.\n",
      "compound: 0.6249, neg: 0.0, neu: 0.745, pos: 0.255, "
     ]
    }
   ],
   "source": [
    "#Message 2\n",
    "\n",
    "\n",
    "#Putting in text to analyze\n",
    "message_text = '''Looks great.  I think we should have a least 1 or 2 real time traders in Calgary.'''\n",
    "print(message_text)\n",
    "\n",
    "#find polarity scores\n",
    "scores = sid.polarity_scores(message_text)\n",
    "\n",
    "#print key-value pairs for scores\n",
    "for key in sorted(scores):\n",
    "        print('{0}: {1}, '.format(key, scores[key]), end='')\n"
   ]
  },
  {
   "cell_type": "code",
   "execution_count": 13,
   "metadata": {},
   "outputs": [
    {
     "name": "stdout",
     "output_type": "stream",
     "text": [
      "I think we are making great progress on the systems side.  I would like to\n",
      "set a deadline of November 10th to have a plan on all North American projects\n",
      "(I'm ok if fundementals groups are excluded) that is signed off on by\n",
      "commercial, Sally's world, and Beth's world.  When I say signed off I mean\n",
      "that I want signitures on a piece of paper that everyone is onside with the\n",
      "plan for each project.  If you don't agree don't sign. If certain projects\n",
      "(ie. the gas plan) are not done yet then lay out a timeframe that the plan\n",
      "will be complete.  I want much more in the way of specifics about objectives\n",
      "and timeframe. Thanks for everyone's hard work on this\n",
      "compound: 0.8951, neg: 0.042, neu: 0.821, pos: 0.136, "
     ]
    }
   ],
   "source": [
    "#Message 3\n",
    "\n",
    "\n",
    "#Putting in text to analyze\n",
    "message_text = '''I think we are making great progress on the systems side.  I would like to\n",
    "set a deadline of November 10th to have a plan on all North American projects\n",
    "(I'm ok if fundementals groups are excluded) that is signed off on by\n",
    "commercial, Sally's world, and Beth's world.  When I say signed off I mean\n",
    "that I want signitures on a piece of paper that everyone is onside with the\n",
    "plan for each project.  If you don't agree don't sign. If certain projects\n",
    "(ie. the gas plan) are not done yet then lay out a timeframe that the plan\n",
    "will be complete.  I want much more in the way of specifics about objectives\n",
    "and timeframe. Thanks for everyone's hard work on this'''\n",
    "print(message_text)\n",
    "\n",
    "#find polarity scores\n",
    "scores = sid.polarity_scores(message_text)\n",
    "\n",
    "#print key-value pairs for scores\n",
    "for key in sorted(scores):\n",
    "        print('{0}: {1}, '.format(key, scores[key]), end='')"
   ]
  },
  {
   "cell_type": "code",
   "execution_count": 14,
   "metadata": {},
   "outputs": [
    {
     "name": "stdout",
     "output_type": "stream",
     "text": [
      "I've heard from a few of you that you are having difficulty with the Programming Historian Lessons. I don't want you to stress out about this assignment. Do your best. You will have opportunity to fix or redo anything before your final grade. In the meantime, here are two things that may be of some help\n",
      "compound: 0.646, neg: 0.1, neu: 0.749, pos: 0.151, "
     ]
    }
   ],
   "source": [
    "#Message 4 \n",
    "\n",
    "\n",
    "#Putting in text to analyze\n",
    "message_text = '''I've heard from a few of you that you are having difficulty with the Programming Historian Lessons. I don't want you to stress out about this assignment. Do your best. You will have opportunity to fix or redo anything before your final grade. In the meantime, here are two things that may be of some help'''\n",
    "print(message_text)\n",
    "\n",
    "#find polarity scores\n",
    "scores = sid.polarity_scores(message_text)\n",
    "\n",
    "#print key-value pairs for scores\n",
    "for key in sorted(scores):\n",
    "        print('{0}: {1}, '.format(key, scores[key]), end='')"
   ]
  },
  {
   "cell_type": "code",
   "execution_count": 15,
   "metadata": {},
   "outputs": [
    {
     "name": "stdout",
     "output_type": "stream",
     "text": [
      "It seems to me we are in the middle of no man's land with respect to the  following:  Opec production speculation, Mid east crisis and renewed  tensions, US elections and what looks like a slowing economy (?), and no real weather anywhere in the world. I think it would be most prudent to play  the markets from a very flat price position and try to day trade more aggressively. I have no intentions of outguessing Mr. Greenspan, the US. electorate, the Opec ministers and their new important roles, The Israeli and Palestinian leaders, and somewhat importantly, Mother Nature.  Given that, and that we cannot afford to lose any more money, and that Var seems to be a problem, let's be as flat as possible. I'm ok with spread risk  (not front to backs, but commodity spreads). The morning meetings are not inspiring, and I don't have a real feel for  everyone's passion with respect to the markets.  As such, I'd like to ask  John N. to run the morning meetings on Mon. and Wed.  Thanks. Jeff\n",
      "compound: 0.889, neg: 0.096, neu: 0.765, pos: 0.14, "
     ]
    }
   ],
   "source": [
    "#Message 5 -- whole email block text\n",
    "\n",
    "\n",
    "#Putting in text to analyze\n",
    "message_text = '''It seems to me we are in the middle of no man's land with respect to the  following:  Opec production speculation, Mid east crisis and renewed  tensions, US elections and what looks like a slowing economy (?), and no real weather anywhere in the world. I think it would be most prudent to play  the markets from a very flat price position and try to day trade more aggressively. I have no intentions of outguessing Mr. Greenspan, the US. electorate, the Opec ministers and their new important roles, The Israeli and Palestinian leaders, and somewhat importantly, Mother Nature.  Given that, and that we cannot afford to lose any more money, and that Var seems to be a problem, let's be as flat as possible. I'm ok with spread risk  (not front to backs, but commodity spreads). The morning meetings are not inspiring, and I don't have a real feel for  everyone's passion with respect to the markets.  As such, I'd like to ask  John N. to run the morning meetings on Mon. and Wed.  Thanks. Jeff'''\n",
    "print(message_text)\n",
    "\n",
    "#find polarity scores\n",
    "scores = sid.polarity_scores(message_text)\n",
    "\n",
    "#print key-value pairs for scores\n",
    "for key in sorted(scores):\n",
    "        print('{0}: {1}, '.format(key, scores[key]), end='')"
   ]
  },
  {
   "cell_type": "code",
   "execution_count": 18,
   "metadata": {},
   "outputs": [
    {
     "name": "stdout",
     "output_type": "stream",
     "text": [
      "It seems to me we are in the middle of no man's land with respect to the  following:  Opec production speculation, Mid east crisis and renewed  tensions, US elections and what looks like a slowing economy (?\n",
      "compound: -0.5267, neg: 0.197, neu: 0.68, pos: 0.123, \n",
      "), and no real weather anywhere in the world.\n",
      "compound: -0.296, neg: 0.216, neu: 0.784, pos: 0.0, \n",
      "I think it would be most prudent to play  the markets from a very flat price position and try to day trade more aggressively.\n",
      "compound: 0.0183, neg: 0.103, neu: 0.792, pos: 0.105, \n",
      "I have no intentions of outguessing Mr. Greenspan, the US.\n",
      "compound: -0.296, neg: 0.216, neu: 0.784, pos: 0.0, \n",
      "electorate, the Opec ministers and their new important roles, The Israeli and Palestinian leaders, and somewhat importantly, Mother Nature.\n",
      "compound: 0.4228, neg: 0.0, neu: 0.817, pos: 0.183, \n",
      "Given that, and that we cannot afford to lose any more money, and that Var seems to be a problem, let's be as flat as possible.\n",
      "compound: -0.1134, neg: 0.097, neu: 0.823, pos: 0.081, \n",
      "I'm ok with spread risk  (not front to backs, but commodity spreads).\n",
      "compound: -0.0129, neg: 0.2, neu: 0.679, pos: 0.121, \n",
      "The morning meetings are not inspiring, and I don't have a real feel for  everyone's passion with respect to the markets.\n",
      "compound: 0.5815, neg: 0.095, neu: 0.655, pos: 0.25, \n",
      "As such, I'd like to ask  John N. to run the morning meetings on Mon.\n",
      "compound: 0.3612, neg: 0.0, neu: 0.848, pos: 0.152, \n",
      "and Wed.\n",
      "compound: 0.0, neg: 0.0, neu: 1.0, pos: 0.0, \n",
      "Thanks.\n",
      "compound: 0.4404, neg: 0.0, neu: 0.0, pos: 1.0, \n",
      "Jeff\n",
      "compound: 0.0, neg: 0.0, neu: 1.0, pos: 0.0, \n"
     ]
    }
   ],
   "source": [
    "#Adding Tokenizer\n",
    "\n",
    "from nltk import sentiment\n",
    "from nltk import word_tokenize\n",
    "\n",
    "#adding english pickle\n",
    "tokenizer = nltk.data.load('tokenizers/punkt/english.pickle')\n",
    "\n",
    "#adding message text\n",
    "message_text = '''It seems to me we are in the middle of no man's land with respect to the  following:  Opec production speculation, Mid east crisis and renewed  tensions, US elections and what looks like a slowing economy (?), and no real weather anywhere in the world. I think it would be most prudent to play  the markets from a very flat price position and try to day trade more aggressively. I have no intentions of outguessing Mr. Greenspan, the US. electorate, the Opec ministers and their new important roles, The Israeli and Palestinian leaders, and somewhat importantly, Mother Nature.  Given that, and that we cannot afford to lose any more money, and that Var seems to be a problem, let's be as flat as possible. I'm ok with spread risk  (not front to backs, but commodity spreads). The morning meetings are not inspiring, and I don't have a real feel for  everyone's passion with respect to the markets.  As such, I'd like to ask  John N. to run the morning meetings on Mon. and Wed.  Thanks. Jeff'''\n",
    "\n",
    "\n",
    "#tokenize list\n",
    "sentences = tokenizer.tokenize(message_text)\n",
    "\n",
    "#finding sentence scores\n",
    "for sentence in sentences:\n",
    "        print(sentence)\n",
    "        scores = sid.polarity_scores(sentence)\n",
    "        for key in sorted(scores):\n",
    "                print('{0}: {1}, '.format(key, scores[key]), end='')\n",
    "        print()\n",
    "\n"
   ]
  }
 ],
 "metadata": {
  "kernelspec": {
   "display_name": "Python 3 (ipykernel)",
   "language": "python",
   "name": "python3"
  },
  "language_info": {
   "codemirror_mode": {
    "name": "ipython",
    "version": 3
   },
   "file_extension": ".py",
   "mimetype": "text/x-python",
   "name": "python",
   "nbconvert_exporter": "python",
   "pygments_lexer": "ipython3",
   "version": "3.9.12"
  },
  "vscode": {
   "interpreter": {
    "hash": "aee8b7b246df8f9039afb4144a1f6fd8d2ca17a180786b69acc140d282b71a49"
   }
  }
 },
 "nbformat": 4,
 "nbformat_minor": 2
}
